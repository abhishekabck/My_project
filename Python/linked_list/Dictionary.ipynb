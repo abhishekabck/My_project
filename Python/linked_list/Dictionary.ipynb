{
 "cells": [
  {
   "cell_type": "code",
   "execution_count": 24,
   "id": "2b7f13dc-f502-46a4-86d8-8302244f5706",
   "metadata": {},
   "outputs": [
    {
     "data": {
      "text/plain": [
       "'\\n-> dict.clear()\\n-> dict.copy()\\n-> dict.get(key, default = None)\\n-> dict.items()\\n-> dict.keys()\\n-> dict.values()\\n-> dict.pop(key, default = None)\\n-> dict.popitem()\\n-> dict.setdefault(key, default = None)\\n-> dict.update(dict1)\\n-> dict.fromkeys()\\n'"
      ]
     },
     "execution_count": 24,
     "metadata": {},
     "output_type": "execute_result"
    }
   ],
   "source": [
    "# Methods of Dictionary \n",
    "\"\"\"\n",
    "-> dict.clear()\n",
    "-> dict.copy()\n",
    "-> dict.get(key, default = None)\n",
    "-> dict.items()\n",
    "-> dict.keys()\n",
    "-> dict.values()\n",
    "-> dict.pop(key, default = None)\n",
    "-> dict.popitem()\n",
    "-> dict.setdefault(key, default = None)\n",
    "-> dict.update(dict1)\n",
    "-> dict.fromkeys()\n",
    "\"\"\"\n"
   ]
  },
  {
   "cell_type": "code",
   "execution_count": 25,
   "id": "c75475a0-ae69-4c30-8a11-ec7889aec5e4",
   "metadata": {},
   "outputs": [
    {
     "name": "stdout",
     "output_type": "stream",
     "text": [
      "{}\n"
     ]
    }
   ],
   "source": [
    "#1. clear()\n",
    "my_dict = {\"a\":1, \"b\":2, \"c\":3}\n",
    "my_dict.clear()\n",
    "print(my_dict)"
   ]
  },
  {
   "cell_type": "code",
   "execution_count": 26,
   "id": "425a7e88-cd38-4522-8c4e-99ef2f7b112f",
   "metadata": {},
   "outputs": [
    {
     "name": "stdout",
     "output_type": "stream",
     "text": [
      "{'a': 1, 'b': 2, 'c': 3}\n"
     ]
    }
   ],
   "source": [
    "#2. copy()\n",
    "my_dict = {\"a\":1, \"b\":2, \"c\":3}\n",
    "cpy_dict = my_dict.copy()\n",
    "print(cpy_dict)"
   ]
  },
  {
   "cell_type": "code",
   "execution_count": 27,
   "id": "4d4500a3-6489-4050-bbe3-4a06103469ca",
   "metadata": {},
   "outputs": [
    {
     "name": "stdout",
     "output_type": "stream",
     "text": [
      "{'a': 0, 'b': 0, 'c': 0}\n"
     ]
    }
   ],
   "source": [
    "#3. fromkeys()\n",
    "keys = ['a', 'b', 'c']\n",
    "default_value = 0\n",
    "new_dict = dict.fromkeys(keys, default_value)\n",
    "print(new_dict)"
   ]
  },
  {
   "cell_type": "code",
   "execution_count": 28,
   "id": "956dfed9-0967-4ce6-81a0-d9a93f20dfd2",
   "metadata": {},
   "outputs": [
    {
     "name": "stdout",
     "output_type": "stream",
     "text": [
      "1\n"
     ]
    }
   ],
   "source": [
    "#4. get()\n",
    "my_dict = {'a':1, 'b':2, 'c':3}\n",
    "value = my_dict.get('a')\n",
    "print(value)"
   ]
  },
  {
   "cell_type": "code",
   "execution_count": 29,
   "id": "b02d7035-7647-463d-85ee-067fcbd59b14",
   "metadata": {},
   "outputs": [
    {
     "name": "stdout",
     "output_type": "stream",
     "text": [
      "dict_values([1, 2, 3])\n"
     ]
    }
   ],
   "source": [
    "#5. items()\n",
    "print(my_dict.values())"
   ]
  },
  {
   "cell_type": "code",
   "execution_count": 30,
   "id": "847697b3-78d0-4d28-95c9-7d674cdd7889",
   "metadata": {},
   "outputs": [
    {
     "name": "stdout",
     "output_type": "stream",
     "text": [
      "dict_keys(['a', 'b', 'c'])\n"
     ]
    }
   ],
   "source": [
    "#6. keys()\n",
    "print(my_dict.keys())"
   ]
  },
  {
   "cell_type": "code",
   "execution_count": 31,
   "id": "75979620-33a8-436e-afa3-7b0051487064",
   "metadata": {},
   "outputs": [
    {
     "name": "stdout",
     "output_type": "stream",
     "text": [
      "dict_values([1, 2, 3])\n"
     ]
    }
   ],
   "source": [
    "#7. values()\n",
    "values = my_dict.values()\n",
    "print(values)"
   ]
  },
  {
   "cell_type": "code",
   "execution_count": 32,
   "id": "e6a8ad57-6396-4200-9afc-a3f214231708",
   "metadata": {},
   "outputs": [
    {
     "name": "stdout",
     "output_type": "stream",
     "text": [
      "2\n",
      "{'a': 1, 'c': 3}\n"
     ]
    }
   ],
   "source": [
    "#8. pop(keys)\n",
    "value = my_dict.pop('b')\n",
    "print(value)\n",
    "print(my_dict)"
   ]
  },
  {
   "cell_type": "code",
   "execution_count": 33,
   "id": "1c9f1a7b-b9a2-4d0c-8da6-8db0f58b3e2f",
   "metadata": {},
   "outputs": [
    {
     "name": "stdout",
     "output_type": "stream",
     "text": [
      "('c', 3)\n",
      "{'a': 1}\n"
     ]
    }
   ],
   "source": [
    "#9. popitem()\n",
    "item = my_dict.popitem()\n",
    "print(item)\n",
    "print(my_dict)"
   ]
  },
  {
   "cell_type": "code",
   "execution_count": 34,
   "id": "ae0083ed-ae55-45a2-b746-3d3317e69662",
   "metadata": {},
   "outputs": [
    {
     "name": "stdout",
     "output_type": "stream",
     "text": [
      "0\n",
      "{'a': 1, 'b': 2, 'c': 3, 'd': 0}\n"
     ]
    }
   ],
   "source": [
    "#10. setdefault()\n",
    "my_dict = {'a':1, 'b': 2, 'c':3}\n",
    "value = my_dict.setdefault('d', 0)\n",
    "print(value)\n",
    "print(my_dict)"
   ]
  },
  {
   "cell_type": "code",
   "execution_count": 35,
   "id": "b3588d0c-926d-455c-93b5-753658c05d32",
   "metadata": {},
   "outputs": [
    {
     "name": "stdout",
     "output_type": "stream",
     "text": [
      "{'a': 1, 'b': 3, 'c': 4}\n"
     ]
    }
   ],
   "source": [
    "#11. update\n",
    "dict1 = {'a': 1, 'b': 2}\n",
    "dict2 = {'b': 3, 'c': 4}\n",
    "dict1.update(dict2)\n",
    "print(dict1)"
   ]
  },
  {
   "cell_type": "code",
   "execution_count": 36,
   "id": "9fe7287a-26c7-4276-9230-d9aef908603d",
   "metadata": {},
   "outputs": [
    {
     "name": "stdout",
     "output_type": "stream",
     "text": [
      "name 'my_dict' is not defined\n"
     ]
    }
   ],
   "source": [
    "#12. del\n",
    "del my_dict\n",
    "try:\n",
    "    print(my_dict)\n",
    "except Exception as e:\n",
    "    print(e)"
   ]
  },
  {
   "cell_type": "code",
   "execution_count": 40,
   "id": "394ae459-1f40-4f8d-ace6-573a8e5966b1",
   "metadata": {},
   "outputs": [
    {
     "name": "stdin",
     "output_type": "stream",
     "text": [
      "Enter the name of Fruit:-  hello\n"
     ]
    },
    {
     "name": "stdout",
     "output_type": "stream",
     "text": [
      "item Not Found\n"
     ]
    }
   ],
   "source": [
    "\"\"\" ---------------------------------->>>Inventory System<<<<-------------------------------------------------\"\"\"\n",
    "# Each item in inventory should have a name and a price\n",
    "# Write a fucntion that takes the name of an item as input and returns its price\n",
    "# If the item is not found in the inventory, return \"item not found\"\n",
    "inventory = {'apple': 80, \"orange\": 50, \"mango\":65}\n",
    "fruit = input(\"Enter the name of Fruit:- \")\n",
    "print(inventory.get(fruit.lower(), \"item Not Found\"))\n"
   ]
  },
  {
   "cell_type": "code",
   "execution_count": 41,
   "id": "70446866-8d6c-4f16-8ef6-08996e20b86a",
   "metadata": {},
   "outputs": [
    {
     "name": "stdout",
     "output_type": "stream",
     "text": [
      "('apple', 80)\n",
      "('orange', 50)\n",
      "('mango', 65)\n"
     ]
    }
   ],
   "source": [
    "\"\"\" Write a program to display key value of the given value by using itemvalue\"\"\"\n",
    "for i in inventory.items():\n",
    "    print(i)"
   ]
  },
  {
   "cell_type": "code",
   "execution_count": 44,
   "id": "76c94bc0-f1cb-4000-8792-dcf65596061b",
   "metadata": {},
   "outputs": [
    {
     "name": "stdout",
     "output_type": "stream",
     "text": [
      "dict_keys(['name', 'age', 'course', 'marks'])\n",
      "dict_items([('name', 'Rahul'), ('age', 23), ('course', 'Computer Science'), ('marks', 85)])\n",
      "dict_values(['Rahul', 23, 'Computer Science', 85])\n",
      "85\n",
      "85\n",
      "('course', 'Computer Science')\n",
      "{456: None, 2: None, 4: None, 5: None}\n"
     ]
    }
   ],
   "source": [
    "student_details = {\n",
    "    'name':'Rahul',\n",
    "    'age':23,\n",
    "    'course':'Computer Science',\n",
    "    'marks':85\n",
    "}\n",
    "print(student_details.keys())\n",
    "print(student_details.items())\n",
    "print(student_details.values())\n",
    "print(student_details.get(\"marks\"))\n",
    "print(student_details.pop(\"marks\", 2))\n",
    "print(student_details.popitem())\n",
    "keys = [456,2,4,5,4]\n",
    "student_details.setdefault(45)\n",
    "print(student_details.fromkeys(keys))\n"
   ]
  },
  {
   "cell_type": "code",
   "execution_count": null,
   "id": "75f4acb3-0e39-42d8-b05c-8154a5328c42",
   "metadata": {},
   "outputs": [],
   "source": [
    "\"\"\" ------------------------------->>> Banking System Menu <<<<<----------------------------------------\"\"\"\n",
    "def main():\n",
    "    print(\"--Banking System Menu --\")\n",
    "    print(\"1.Display All Cutomers\")\n",
    "    print(\"2.Check Balance.\")\n",
    "    print(\"3.Deposit Money\")\n",
    "    print(\"4.Wihdrawal Money\")\n",
    "    print(\"5.Open New Account\")\n",
    "    print(\"6.Close Account\")\n",
    "    print(\"7.Exit\")\n",
    "    choice = int(input(\"Please select an option[1-7]:\"))\n",
    "    if choice == 1:\n",
    "        display()\n",
    "    elif choice == 2:\n",
    "        check_Balance()\n",
    "    elif choice == 3:\n",
    "        Deposite_Money()\n",
    "    elif choice == 4:\n",
    "        Withdraw_money()\n",
    "    elif choice == 5:\n",
    "        open_account()\n",
    "    elif choice == 6:\n",
    "        close_account()\n",
    "    elif choice == 7:\n",
    "        exit()\n",
    "\n",
    "db = dict()\n",
    "def display():\n",
    "    acc = int(input(\"Account Number:- \"))\n",
    "    print(db.get(acc, \"No Account\"))\n"
   ]
  }
 ],
 "metadata": {
  "kernelspec": {
   "display_name": "Python 3 (ipykernel)",
   "language": "python",
   "name": "python3"
  },
  "language_info": {
   "codemirror_mode": {
    "name": "ipython",
    "version": 3
   },
   "file_extension": ".py",
   "mimetype": "text/x-python",
   "name": "python",
   "nbconvert_exporter": "python",
   "pygments_lexer": "ipython3",
   "version": "3.12.3"
  }
 },
 "nbformat": 4,
 "nbformat_minor": 5
}
