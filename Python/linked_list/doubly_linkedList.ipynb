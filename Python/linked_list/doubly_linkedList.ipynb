{
 "cells": [
  {
   "cell_type": "code",
   "execution_count": 1,
   "id": "e9683ca5-99ea-4f1f-a0db-e93b70267cd4",
   "metadata": {},
   "outputs": [],
   "source": [
    "\"\"\":::->>>>>>>>>>>>>>>>>>>>>>>>>>>>>>>>>>>>>>>>>>>Defining Node of Doublly Linked List<<<<<<<<<<<<<<<<<<<<<<<<<<<<<<<<<<<<<<<<<-:::\"\"\"\n",
    "class node:\n",
    "    # Defining the Structure of Nodes\n",
    "    def __init__(self, previous = None, data = None, Next = None):\n",
    "        self.previous = previous\n",
    "        self.data = data\n",
    "        self.next = Next\n",
    "\n",
    "    # Method to return Data of any current Node\n",
    "    def getData(self) -> any:\n",
    "        return self.data\n",
    "\n",
    "    # Method which returns Boolean Data for according to Having Previous Node or not\n",
    "    def hasPrevious(self):\n",
    "        return True if self.previous else False\n",
    "\n",
    "    # Method which returns Boolean Data for according to Having Next Node or not\n",
    "    def hasNext(self):\n",
    "        return True if self.next else False\n",
    "    "
   ]
  },
  {
   "cell_type": "code",
   "execution_count": 18,
   "id": "25474b10-656c-4114-be8c-a4c25674a799",
   "metadata": {},
   "outputs": [],
   "source": [
    "class DoubllyLL(object):\n",
    "    # Initializing\n",
    "    def __init__(self, head = None) -> None:\n",
    "        self.head = head\n",
    "        self.length = 0\n",
    "        self.last = self.head\n",
    "\n",
    "    def update_details(self) -> None:\n",
    "        count = 0\n",
    "        temp = self.head\n",
    "        while temp.next != None:\n",
    "            count += 1\n",
    "            temp = temp.next\n",
    "        self.last = temp\n",
    "        self.length = count\n",
    "\n",
    "    def insertAtBeginning(self, data : any) -> None:\n",
    "        newNode = node()\n",
    "        newNode.data = data\n",
    "        if self.length == 0:\n",
    "            self.head = newNode\n",
    "            self.length += 1\n",
    "            return\n",
    "        current = self.head\n",
    "        current.previous = newNode\n",
    "        newNode.next = current\n",
    "        self.head = newNode\n",
    "        self.length += 1\n",
    "\n",
    "    def insertAtEnd(self, data:any) -> None:\n",
    "        newNode = node(data = data)\n",
    "        self.last.next = newNode\n",
    "        self.last = self.last.next\n",
    "        self.length += 1\n",
    "\n",
    "    def Traverse_Forward(self) -> None:\n",
    "        current = self.head\n",
    "        while (current.next != None):\n",
    "            print(current.getData(), end = \", \")\n",
    "            current = current.next\n",
    "        print(current.getData())\n",
    "        "
   ]
  },
  {
   "cell_type": "code",
   "execution_count": 19,
   "id": "1ca66949-fe81-4f2f-bc31-89837438f2d3",
   "metadata": {},
   "outputs": [
    {
     "ename": "AttributeError",
     "evalue": "'NoneType' object has no attribute 'next'",
     "output_type": "error",
     "traceback": [
      "\u001b[1;31m---------------------------------------------------------------------------\u001b[0m",
      "\u001b[1;31mAttributeError\u001b[0m                            Traceback (most recent call last)",
      "Cell \u001b[1;32mIn[19], line 13\u001b[0m\n\u001b[0;32m     11\u001b[0m dll\u001b[38;5;241m.\u001b[39minsertAtBeginning(\u001b[38;5;241m75344\u001b[39m)\n\u001b[0;32m     12\u001b[0m dll\u001b[38;5;241m.\u001b[39minsertAtBeginning(\u001b[38;5;241m86534\u001b[39m)\n\u001b[1;32m---> 13\u001b[0m \u001b[43mdll\u001b[49m\u001b[38;5;241;43m.\u001b[39;49m\u001b[43minsertAtEnd\u001b[49m\u001b[43m(\u001b[49m\u001b[38;5;241;43m5323\u001b[39;49m\u001b[43m)\u001b[49m\n\u001b[0;32m     14\u001b[0m dll\u001b[38;5;241m.\u001b[39mTraverse_Forward()\n",
      "Cell \u001b[1;32mIn[18], line 32\u001b[0m, in \u001b[0;36mDoubllyLL.insertAtEnd\u001b[1;34m(self, data)\u001b[0m\n\u001b[0;32m     30\u001b[0m \u001b[38;5;28;01mdef\u001b[39;00m \u001b[38;5;21minsertAtEnd\u001b[39m(\u001b[38;5;28mself\u001b[39m, data:\u001b[38;5;28many\u001b[39m) \u001b[38;5;241m-\u001b[39m\u001b[38;5;241m>\u001b[39m \u001b[38;5;28;01mNone\u001b[39;00m:\n\u001b[0;32m     31\u001b[0m     newNode \u001b[38;5;241m=\u001b[39m node(data \u001b[38;5;241m=\u001b[39m data)\n\u001b[1;32m---> 32\u001b[0m     \u001b[38;5;28;43mself\u001b[39;49m\u001b[38;5;241;43m.\u001b[39;49m\u001b[43mlast\u001b[49m\u001b[38;5;241;43m.\u001b[39;49m\u001b[43mnext\u001b[49m \u001b[38;5;241m=\u001b[39m newNode\n\u001b[0;32m     33\u001b[0m     \u001b[38;5;28mself\u001b[39m\u001b[38;5;241m.\u001b[39mlast \u001b[38;5;241m=\u001b[39m \u001b[38;5;28mself\u001b[39m\u001b[38;5;241m.\u001b[39mlast\u001b[38;5;241m.\u001b[39mnext\n\u001b[0;32m     34\u001b[0m     \u001b[38;5;28mself\u001b[39m\u001b[38;5;241m.\u001b[39mlength \u001b[38;5;241m+\u001b[39m\u001b[38;5;241m=\u001b[39m \u001b[38;5;241m1\u001b[39m\n",
      "\u001b[1;31mAttributeError\u001b[0m: 'NoneType' object has no attribute 'next'"
     ]
    }
   ],
   "source": [
    "dll = DoubllyLL()\n",
    "dll.insertAtBeginning(4)\n",
    "dll.insertAtBeginning(5454)\n",
    "dll.insertAtBeginning(34536)\n",
    "dll.insertAtBeginning(4345)\n",
    "dll.insertAtBeginning(7544)\n",
    "dll.insertAtBeginning(4524)\n",
    "dll.insertAtBeginning([5,2235])\n",
    "dll.insertAtBeginning(5634)\n",
    "dll.insertAtBeginning(5344)\n",
    "dll.insertAtBeginning(75344)\n",
    "dll.insertAtBeginning(86534)\n",
    "dll.insertAtEnd(5323)\n",
    "dll.Traverse_Forward()\n"
   ]
  },
  {
   "cell_type": "code",
   "execution_count": null,
   "id": "61c323d6-8736-42eb-beea-95bebf3ebaf3",
   "metadata": {},
   "outputs": [],
   "source": []
  },
  {
   "cell_type": "code",
   "execution_count": null,
   "id": "27e225f9-1e53-486d-bf39-1e96cdb482de",
   "metadata": {},
   "outputs": [],
   "source": []
  }
 ],
 "metadata": {
  "kernelspec": {
   "display_name": "Python 3 (ipykernel)",
   "language": "python",
   "name": "python3"
  },
  "language_info": {
   "codemirror_mode": {
    "name": "ipython",
    "version": 3
   },
   "file_extension": ".py",
   "mimetype": "text/x-python",
   "name": "python",
   "nbconvert_exporter": "python",
   "pygments_lexer": "ipython3",
   "version": "3.12.3"
  }
 },
 "nbformat": 4,
 "nbformat_minor": 5
}
