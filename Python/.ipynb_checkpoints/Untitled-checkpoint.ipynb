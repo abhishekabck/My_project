{
 "cells": [
  {
   "cell_type": "code",
   "execution_count": 1,
   "id": "2e86c0ba-d2ae-41cc-8904-5bbeac944f59",
   "metadata": {},
   "outputs": [],
   "source": [
    "## Number of Pairs of sum k\n",
    "## input = [1,1,1], k = 2\n",
    "## output = 2"
   ]
  },
  {
   "cell_type": "code",
   "execution_count": 38,
   "id": "9c15d6dc-732a-4193-883d-d25877c0fdfa",
   "metadata": {},
   "outputs": [],
   "source": [
    "nums = [3,1,2,0]\n",
    "k = 3\n",
    "## Brute Force\n",
    "def solve(nums, k):\n",
    "    Sum = 0\n",
    "    count, start = 0, 0\n",
    "    i = 0\n",
    "    while i < len(nums):\n",
    "        while Sum > k:\n",
    "            Sum -= nums[start]\n",
    "            start += 1\n",
    "        if Sum == k:\n",
    "            count += 1\n",
    "        Sum += nums[i]\n",
    "        i += 1\n",
    "    return count"
   ]
  },
  {
   "cell_type": "code",
   "execution_count": 39,
   "id": "49333e9b-91f5-4cd9-be68-c225fa6e89c8",
   "metadata": {},
   "outputs": [
    {
     "name": "stdout",
     "output_type": "stream",
     "text": [
      "2\n",
      "0\n"
     ]
    }
   ],
   "source": [
    "print(solve(nums, k))\n",
    "print(solve([0], 1))"
   ]
  },
  {
   "cell_type": "code",
   "execution_count": null,
   "id": "4a7dd5fd-f8f8-44bf-a44d-6aaa3282394e",
   "metadata": {},
   "outputs": [],
   "source": [
    "## Optimized Approach\n",
    "def solve1(nums, k):\n",
    "    m = {0:1}\n",
    "    cnt += \n",
    "    for i in range(nums):\n",
    "        "
   ]
  }
 ],
 "metadata": {
  "kernelspec": {
   "display_name": "Python 3 (ipykernel)",
   "language": "python",
   "name": "python3"
  },
  "language_info": {
   "codemirror_mode": {
    "name": "ipython",
    "version": 3
   },
   "file_extension": ".py",
   "mimetype": "text/x-python",
   "name": "python",
   "nbconvert_exporter": "python",
   "pygments_lexer": "ipython3",
   "version": "3.12.3"
  }
 },
 "nbformat": 4,
 "nbformat_minor": 5
}
