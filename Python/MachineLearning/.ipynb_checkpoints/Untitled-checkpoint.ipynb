{
 "cells": [
  {
   "cell_type": "code",
   "execution_count": 2,
   "id": "f533ca55-4d32-4e96-8468-d09be842466b",
   "metadata": {},
   "outputs": [
    {
     "name": "stdout",
     "output_type": "stream",
     "text": [
      "Hello World!\n"
     ]
    }
   ],
   "source": [
    "print(\"Hello World!\")"
   ]
  },
  {
   "cell_type": "markdown",
   "id": "7385aa25-48e7-4838-a38f-a2a8d4cfbb51",
   "metadata": {},
   "source": [
    "# Hello I Am Learning Maching Learning"
   ]
  },
  {
   "cell_type": "markdown",
   "id": "3a85b3af-1f12-4de3-80c5-6eba40f4eaf7",
   "metadata": {},
   "source": [
    "- sets"
   ]
  },
  {
   "cell_type": "code",
   "execution_count": 15,
   "id": "46283f5a-6e1d-4490-ab61-2e42f4927408",
   "metadata": {},
   "outputs": [
    {
     "data": {
      "text/plain": [
       "set()"
      ]
     },
     "execution_count": 15,
     "metadata": {},
     "output_type": "execute_result"
    }
   ],
   "source": [
    "set1 = set()\n",
    "set1"
   ]
  },
  {
   "cell_type": "code",
   "execution_count": 18,
   "id": "6b6b6212-9be0-4383-9d26-bf2c85c7a4e8",
   "metadata": {},
   "outputs": [
    {
     "data": {
      "text/plain": [
       "{2, 3, 4}"
      ]
     },
     "execution_count": 18,
     "metadata": {},
     "output_type": "execute_result"
    }
   ],
   "source": [
    "set1.add(3)\n",
    "set1.add(4)\n",
    "set1.add(2)\n",
    "set1"
   ]
  },
  {
   "cell_type": "code",
   "execution_count": 19,
   "id": "0ca19ceb-b1b7-4e07-ac02-818a5f91cf2a",
   "metadata": {},
   "outputs": [
    {
     "data": {
      "text/plain": [
       "2"
      ]
     },
     "execution_count": 19,
     "metadata": {},
     "output_type": "execute_result"
    }
   ],
   "source": [
    "set1.pop()"
   ]
  },
  {
   "cell_type": "code",
   "execution_count": 20,
   "id": "daa0aae1-678a-47c9-98c1-05eda4e069c1",
   "metadata": {},
   "outputs": [
    {
     "data": {
      "text/plain": [
       "{3, 4}"
      ]
     },
     "execution_count": 20,
     "metadata": {},
     "output_type": "execute_result"
    }
   ],
   "source": [
    "set1"
   ]
  },
  {
   "cell_type": "code",
   "execution_count": 22,
   "id": "743eb6d0-8a2a-46da-96f9-70fabb56ac75",
   "metadata": {},
   "outputs": [
    {
     "data": {
      "text/plain": [
       "{3}"
      ]
     },
     "execution_count": 22,
     "metadata": {},
     "output_type": "execute_result"
    }
   ],
   "source": [
    "set1.remove(4)\n",
    "set1"
   ]
  },
  {
   "cell_type": "code",
   "execution_count": 23,
   "id": "957ef0d1-d25f-4a64-946a-c12d10e9701e",
   "metadata": {},
   "outputs": [
    {
     "data": {
      "text/plain": [
       "{2, 4, 5, 6, 22, 432}"
      ]
     },
     "execution_count": 23,
     "metadata": {},
     "output_type": "execute_result"
    }
   ],
   "source": [
    "set1 = {2,4,2,4,2,4,22,5,5,6,5,432}\n",
    "set1"
   ]
  },
  {
   "cell_type": "code",
   "execution_count": 25,
   "id": "f258b985-dabe-440a-bea9-a99c4fef77d4",
   "metadata": {},
   "outputs": [
    {
     "data": {
      "text/plain": [
       "{6, 432}"
      ]
     },
     "execution_count": 25,
     "metadata": {},
     "output_type": "execute_result"
    }
   ],
   "source": [
    "set2 = {3,2,4,5,3,2,22}\n",
    "set1.difference(set2)"
   ]
  },
  {
   "cell_type": "code",
   "execution_count": 30,
   "id": "eb1ffa2b-7eb6-4f17-bfc8-bf0c54cc90f8",
   "metadata": {},
   "outputs": [
    {
     "data": {
      "text/plain": [
       "({'a', 'b', 'c', 'd', 'h'}, {'a', 'b', 'c', 'd', 'e', 'f'})"
      ]
     },
     "execution_count": 30,
     "metadata": {},
     "output_type": "execute_result"
    }
   ],
   "source": [
    "str1 = \"abcdh\"\n",
    "str2 = \"abcdef\"\n",
    "set1 = set(str1)\n",
    "set2 = set(str2)\n",
    "set1,set2"
   ]
  },
  {
   "cell_type": "code",
   "execution_count": 31,
   "id": "aad25086-bebc-412e-8e86-df9ec7ed7177",
   "metadata": {},
   "outputs": [
    {
     "data": {
      "text/plain": [
       "{'a', 'b', 'c', 'd', 'e', 'f', 'h'}"
      ]
     },
     "execution_count": 31,
     "metadata": {},
     "output_type": "execute_result"
    }
   ],
   "source": [
    "set2.union(set1)"
   ]
  },
  {
   "cell_type": "code",
   "execution_count": 32,
   "id": "db836454-549c-494a-b705-282d03c6ec45",
   "metadata": {},
   "outputs": [],
   "source": [
    "set1.update(set2)"
   ]
  },
  {
   "cell_type": "code",
   "execution_count": 33,
   "id": "5b1e58a1-0535-40ef-b8e2-5acd9123419c",
   "metadata": {},
   "outputs": [
    {
     "data": {
      "text/plain": [
       "{'a', 'b', 'c', 'd', 'e', 'f', 'h'}"
      ]
     },
     "execution_count": 33,
     "metadata": {},
     "output_type": "execute_result"
    }
   ],
   "source": [
    "set1"
   ]
  },
  {
   "cell_type": "markdown",
   "id": "b468f0f4-e3c7-491f-9c46-fc50f364ed6a",
   "metadata": {},
   "source": [
    "### Numpy"
   ]
  },
  {
   "cell_type": "code",
   "execution_count": 35,
   "id": "caca1d4c-481f-481e-a69f-e6788c3db16e",
   "metadata": {},
   "outputs": [],
   "source": [
    "import numpy as np"
   ]
  },
  {
   "cell_type": "markdown",
   "id": "0fab8531-25f1-4ba8-acf6-1bf3fbfa9d93",
   "metadata": {},
   "source": [
    "- 1D Array"
   ]
  },
  {
   "cell_type": "code",
   "execution_count": 36,
   "id": "e6c05398-61d1-49cb-bc4f-a1ab650fa4f5",
   "metadata": {},
   "outputs": [],
   "source": [
    "my_lst = [1,2,3,4,5]\n",
    "arr = np.array(my_lst)"
   ]
  },
  {
   "cell_type": "code",
   "execution_count": 37,
   "id": "7895eb5d-413d-450d-8abf-7cc671836405",
   "metadata": {},
   "outputs": [
    {
     "data": {
      "text/plain": [
       "numpy.ndarray"
      ]
     },
     "execution_count": 37,
     "metadata": {},
     "output_type": "execute_result"
    }
   ],
   "source": [
    "type(arr)"
   ]
  },
  {
   "cell_type": "code",
   "execution_count": 38,
   "id": "2aaad9ab-27f2-4828-8a14-8d10ee99048c",
   "metadata": {},
   "outputs": [
    {
     "name": "stdout",
     "output_type": "stream",
     "text": [
      "[1 2 3 4 5]\n"
     ]
    }
   ],
   "source": [
    "print(arr)"
   ]
  },
  {
   "cell_type": "code",
   "execution_count": 39,
   "id": "370c0acd-a1a7-4307-ba3e-f006557d7c65",
   "metadata": {},
   "outputs": [
    {
     "data": {
      "text/plain": [
       "(5,)"
      ]
     },
     "execution_count": 39,
     "metadata": {},
     "output_type": "execute_result"
    }
   ],
   "source": [
    "arr.shape"
   ]
  },
  {
   "cell_type": "code",
   "execution_count": null,
   "id": "6da491e3-3460-4b6e-bf4d-fef29daaa0f5",
   "metadata": {},
   "outputs": [],
   "source": []
  }
 ],
 "metadata": {
  "kernelspec": {
   "display_name": "Python 3 (ipykernel)",
   "language": "python",
   "name": "python3"
  },
  "language_info": {
   "codemirror_mode": {
    "name": "ipython",
    "version": 3
   },
   "file_extension": ".py",
   "mimetype": "text/x-python",
   "name": "python",
   "nbconvert_exporter": "python",
   "pygments_lexer": "ipython3",
   "version": "3.12.4"
  }
 },
 "nbformat": 4,
 "nbformat_minor": 5
}
