{
 "cells": [
  {
   "cell_type": "markdown",
   "id": "a28a7997-4c02-4df0-bc96-321a06e0a971",
   "metadata": {},
   "source": [
    "## Binary Trees"
   ]
  },
  {
   "cell_type": "markdown",
   "id": "b62feb33-ebf7-4c38-ab90-cbd70053bfd6",
   "metadata": {},
   "source": [
    "> A tree is called binary tree if each node has zero child, one child or two children. Empty tree is also a valid binary tree. We can visualize a binary tree as consisting of a root and two disjoint binary trees, called the left and right subrees of the root."
   ]
  },
  {
   "cell_type": "markdown",
   "id": "95f7c73a-e259-43c0-80d1-34eb9d646874",
   "metadata": {},
   "source": [
    "### Strict Binary tree\n",
    "> if each node either has exactly two or zero nodes.\n",
    "\n",
    "### Full Binary tree\n",
    "> string binary tree having all leaf nodes at the same level.<br>\n",
    "`A node is considered leaf node if it does not have any children`\n",
    "\n",
    "### Complete Binary tree\n",
    "> A binary tree is called complete binary tree if all leaf nodes are at height h or h-1 and also whithout any missing number in the sequence.\n",
    "\n",
    "### structure of Binary tree\n",
    "> Basic Operations\n",
    ">> - Inserting an element into a tree\n",
    ">> - Deleting an element from a tree\n",
    ">> - Searching for an element\n",
    ">> - Traversing the tree\n",
    "\n",
    "> Auxilary Operations\n",
    ">> - Finding the size of the tree\n",
    ">> - Finding the height of the tree\n",
    ">> - Finding the level which has maximum sum\n",
    ">> - Finding the least common ancestor (LCA) for a given pair of nodes, and many more.\n",
    "\n",
    "\n",
    "\n",
    "#### Traversing in tree\n",
    "> - Preorder Traversal: DLR or DRL\n",
    "> - Inorder traversal: LDR or RDL\n",
    "> - Postorder Traversal: LRD or RLD\n",
    "> - Level Order Traversal > inspired from Breadth First Traversal(BFS Graph algorithm)"
   ]
  },
  {
   "cell_type": "markdown",
   "id": "faf1305f-f693-426c-aed6-98e0fbebef33",
   "metadata": {},
   "source": [
    "#### 1 - PreOrder Traversal\n",
    "PreOrder traversal is defined as follows:\n",
    "> - Visit the root.\n",
    "> - Traverse the left subtree in Preorder.\n",
    "> - Traverse the right subtree in Preorder.\n",
    "\n",
    "`Time Complexity: O(n), Space Complexity: O(n)`"
   ]
  },
  {
   "cell_type": "code",
   "execution_count": 9,
   "id": "7c8a0231-135f-4405-95ba-89aeda1c79c3",
   "metadata": {},
   "outputs": [],
   "source": [
    "'''Binary Tree Class and its methods'''\n",
    "class BinaryTreeNode:\n",
    "    def __init__(self, data):\n",
    "        self.data = data   # root node\n",
    "        self.left = None   # left child\n",
    "        self.right = None  # right child\n",
    "    # set data\n",
    "    def setData(self, data):\n",
    "        self.data = data\n",
    "    def getData(self, data):\n",
    "        return self.data\n",
    "    def getLeft(self):\n",
    "        return self.left\n",
    "    def getRight(self):\n",
    "        return self.right\n",
    "\n",
    "class BinaryTree:\n",
    "    def __init__(self, root = None):\n",
    "        self.root = root\n",
    "\n",
    "    # PreOrder Traversal -> DLR Time-> O(n) space -> O(n)\n",
    "    def preOrder(self, root):\n",
    "        if root == None:\n",
    "            return\n",
    "        print(root.data, sep = \"-->\", end = \"-->\")\n",
    "        self.preOrder(root.left)\n",
    "        self.preorder(root.right)\n",
    "\n",
    "    # PreOrder Traversal -> DRL  Time-> O(n) space -> O(n)\n",
    "    def preOrder2(self, root):\n",
    "        if root == None:\n",
    "            return\n",
    "        print(root.data, sep = \"-->\", end = \"-->\")\n",
    "        self.preOrder2(root.right)\n",
    "        self.preOrder2(root.left)\n",
    "\n",
    "    # preOrder Interative traversal\n",
    "    def preOrderInterative(self, root, result):\n",
    "        # Time-> O(n) space -> O(n)\n",
    "        if not root:\n",
    "            return\n",
    "        stack = []\n",
    "        stack.append(root)\n",
    "        while stack:\n",
    "            node = stack.pop()\n",
    "            result.append(node.data)\n",
    "            if node.right:\n",
    "                stack.append(node.right)\n",
    "            if node.left:\n",
    "                stack.append(node.left)\n"
   ]
  },
  {
   "cell_type": "markdown",
   "id": "6f344bc9-44ff-4a98-979e-a0a0c6b26eb4",
   "metadata": {},
   "source": [
    "#### 2 - In-Order Traversal\n",
    "In Inorder Traversal the root is visited between the subtrees. Inorder traversal is defined as follows:\n",
    "> - Traverse the left subtree in Inorder.\n",
    "> - Visit the root.\n",
    "> - Traverse the right subtree in Inorder.\n",
    "\n",
    "The nodes of tree would be visited in the order: 4 2 5 1 6 3 7\n",
    "<br>\n",
    "`Time Complexity: O(n), Space Complexity: O(n)`"
   ]
  },
  {
   "cell_type": "code",
   "execution_count": 10,
   "id": "bb796869-7921-4948-9409-fcce7630fed0",
   "metadata": {},
   "outputs": [],
   "source": [
    "## Inorder Traversal\n",
    "class BinaryTree:\n",
    "    def __init__(self, root = None):\n",
    "        self.root = root\n",
    "\n",
    "    def inOrder(self, root):\n",
    "        if root == None:\n",
    "            return\n",
    "        self.intOrder(root.left)\n",
    "        print(root.data, sep=\"-->\", end=\"-->\")\n",
    "        self.inOrder(root.right)\n",
    "\n",
    "    def inOrder2(self, root):\n",
    "        if root == None:\n",
    "            return\n",
    "        self.inOrder2(root.right)\n",
    "        print(root.data, sep=\"-->\", end = \"-->\")\n",
    "        self.inOrder2(root.left)\n",
    "\n",
    "\n",
    "    # Non-Recursive Inorder Traversal\n",
    "    # In-order interative traversal. The nodes values are appended to the result list in traversal order \n",
    "    def inorderIterative(self, root, result):\n",
    "        if not root:\n",
    "            return\n",
    "        stack = []\n",
    "        node = root\n",
    "        while stack or node:\n",
    "            if node:\n",
    "                stack.append(node)\n",
    "                node = node.left\n",
    "            else:\n",
    "                node = stack.pop()\n",
    "                result.append(node.data)\n",
    "                node = node.right"
   ]
  },
  {
   "cell_type": "markdown",
   "id": "1730a4aa-773c-468a-be65-da3cfcc95d3c",
   "metadata": {},
   "source": [
    "#### 3 - PostOrder Traversal\n",
    "In postorder traversal, the root is visited after both subtrees. Postorder traversal is defined as follows:\n",
    "> - Traverse the left subtree in Postorder.\n",
    "> - Traverse the right subtree in Postorder.\n",
    "> - Vist the root.\n",
    "\n",
    "The nodes of the tree would be visited in the order: 4 5 2 6 7 3 1"
   ]
  },
  {
   "cell_type": "code",
   "execution_count": 11,
   "id": "21e440c3-274a-4eaf-b1ec-588e22b65277",
   "metadata": {},
   "outputs": [],
   "source": [
    "class BinaryTree:\n",
    "    def postOrder(self, root):\n",
    "        if root == None:\n",
    "            return\n",
    "        self.postOrder(root.left)\n",
    "        self.postOrder(root.right)\n",
    "        print(root.data, sep=\"-->\", end=\"-->\")\n",
    "    \n",
    "    def postOrder2(self, root):\n",
    "        if root == None:\n",
    "            return\n",
    "        self.postOrder(root.right)\n",
    "        self.postOrder(root.left)\n",
    "        print(root.data, sep=\"-->\", end=\"-->\")"
   ]
  },
  {
   "cell_type": "code",
   "execution_count": 28,
   "id": "f47a107a-2fc1-470a-abdb-d1eb54c4931a",
   "metadata": {},
   "outputs": [],
   "source": [
    "class BinaryTree:\n",
    "    def __init__(self, root = None):\n",
    "        self.root = root\n",
    "\n",
    "    # PreOrder Traversal -> DLR Time-> O(n) space -> O(n)\n",
    "    def preOrder(self, root):\n",
    "        if root == None:\n",
    "            return\n",
    "        print(root.data, sep = \"-->\", end = \"-->\")\n",
    "        self.preOrder(root.left)\n",
    "        self.preOrder(root.right)\n",
    "\n",
    "    # PreOrder Traversal -> DRL  Time-> O(n) space -> O(n)\n",
    "    def preOrder2(self, root):\n",
    "        if root == None:\n",
    "            return\n",
    "        print(root.data, sep = \"-->\", end = \"-->\")\n",
    "        self.preOrder2(root.right)\n",
    "        self.preOrder2(root.left)\n",
    "\n",
    "    # preOrder Interative traversal\n",
    "    def preOrderInterative(self, root, result):\n",
    "        # Time-> O(n) space -> O(n)\n",
    "        if not root:\n",
    "            return\n",
    "        stack = []\n",
    "        stack.append(root)\n",
    "        while stack:\n",
    "            node = stack.pop()\n",
    "            result.append(node.data)\n",
    "            if node.right:\n",
    "                stack.append(node.right)\n",
    "            if node.left:\n",
    "                stack.append(node.left)\n",
    "\n",
    "    def inOrder(self, root):\n",
    "        if root == None:\n",
    "            return\n",
    "        self.inOrder(root.left)\n",
    "        print(root.data, sep=\"-->\", end=\"-->\")\n",
    "        self.inOrder(root.right)\n",
    "\n",
    "    def inOrder2(self, root):\n",
    "        if root == None:\n",
    "            return\n",
    "        self.inOrder2(root.right)\n",
    "        print(root.data, sep=\"-->\", end = \"-->\")\n",
    "        self.inOrder2(root.left)\n",
    "\n",
    "\n",
    "    # Non-Recursive Inorder Traversal\n",
    "    # In-order interative traversal. The nodes values are appended to the result list in traversal order \n",
    "    def inorderIterative(self, root, result):\n",
    "        if not root:\n",
    "            return\n",
    "        stack = []\n",
    "        node = root\n",
    "        while stack or node:\n",
    "            if node:\n",
    "                stack.append(node)\n",
    "                node = node.left\n",
    "            else:\n",
    "                node = stack.pop()\n",
    "                result.append(node.data)\n",
    "                node = node.right\n",
    "\n",
    "    def postOrder(self, root):\n",
    "        if root == None:\n",
    "            return\n",
    "        self.postOrder(root.left)\n",
    "        self.postOrder(root.right)\n",
    "        print(root.data, sep=\"-->\", end=\"-->\")\n",
    "    \n",
    "    def postOrder2(self, root):\n",
    "        if root == None:\n",
    "            return\n",
    "        self.postOrder(root.right)\n",
    "        self.postOrder(root.left)\n",
    "        print(root.data, sep=\"-->\", end=\"-->\")\n",
    "\n",
    "\n",
    "    ### Non - Recursive Postorder Traversal\n",
    "    def postorderInterative(self, root, result):\n",
    "        result, stack = [], [root]\n",
    "        while stack:\n",
    "            node = stack.pop()\n",
    "            if node:\n",
    "                # pre-order, right first\n",
    "                result.append(node.data)\n",
    "                "
   ]
  },
  {
   "cell_type": "code",
   "execution_count": 29,
   "id": "fff7fbf2-8aa6-4413-84cc-c09c1ddad6a8",
   "metadata": {},
   "outputs": [],
   "source": [
    "root = BinaryTreeNode(data = 1)\n",
    "root.left = BinaryTreeNode(data = 2)\n",
    "root.right = BinaryTreeNode(data = 3)\n",
    "root.left.left = BinaryTreeNode(data = 4)\n",
    "root.left.right = BinaryTreeNode(data = 5)\n",
    "root.right.left = BinaryTreeNode(data = 6)\n",
    "root.right.right = BinaryTreeNode(data = 7)"
   ]
  },
  {
   "cell_type": "code",
   "execution_count": 30,
   "id": "9603ce58-77eb-4efc-99be-740233ce53ab",
   "metadata": {},
   "outputs": [],
   "source": [
    "bt = BinaryTree(root)"
   ]
  },
  {
   "cell_type": "raw",
   "id": "952c01e3-410a-4fb5-b08f-9b103a3783da",
   "metadata": {},
   "source": [
    "            |1| (root)\n",
    "          /    \\ \n",
    "        /       \\\n",
    "      |2|       |3|\n",
    "     /   \\     /   \\ \n",
    "  |4|    |5| |6|   |7|"
   ]
  },
  {
   "cell_type": "code",
   "execution_count": 31,
   "id": "4476b2cd-cfb2-449a-84d8-addb1d24d560",
   "metadata": {},
   "outputs": [
    {
     "name": "stdout",
     "output_type": "stream",
     "text": [
      "1-->2-->4-->5-->3-->6-->7-->"
     ]
    }
   ],
   "source": [
    "bt.preOrder(root)"
   ]
  },
  {
   "cell_type": "code",
   "execution_count": 32,
   "id": "7659edf9-4dd2-40b9-a589-782ca5805e49",
   "metadata": {},
   "outputs": [
    {
     "name": "stdout",
     "output_type": "stream",
     "text": [
      "1-->3-->7-->6-->2-->5-->4-->"
     ]
    }
   ],
   "source": [
    "bt.preOrder2(root)"
   ]
  },
  {
   "cell_type": "code",
   "execution_count": 33,
   "id": "77117275-b4f1-4c4c-be19-a61e11467583",
   "metadata": {},
   "outputs": [
    {
     "name": "stdout",
     "output_type": "stream",
     "text": [
      "4-->2-->5-->1-->6-->3-->7-->"
     ]
    }
   ],
   "source": [
    "bt.inOrder(root)"
   ]
  },
  {
   "cell_type": "code",
   "execution_count": 34,
   "id": "92a5abb9-89ff-427a-a07d-ed416e3785d6",
   "metadata": {},
   "outputs": [
    {
     "name": "stdout",
     "output_type": "stream",
     "text": [
      "7-->3-->6-->1-->5-->2-->4-->"
     ]
    }
   ],
   "source": [
    "bt.inOrder2(root)"
   ]
  },
  {
   "cell_type": "code",
   "execution_count": 43,
   "id": "1e106df7-9f0f-480c-b3d5-187b999db38c",
   "metadata": {},
   "outputs": [
    {
     "name": "stdout",
     "output_type": "stream",
     "text": [
      "4-->5-->2-->6-->7-->3-->1-->\n",
      "6-->7-->3-->4-->5-->2-->1-->"
     ]
    }
   ],
   "source": [
    "bt.postOrder(root)\n",
    "print()\n",
    "bt.postOrder2(root)"
   ]
  },
  {
   "cell_type": "code",
   "execution_count": 47,
   "id": "c7b2fd1e-decb-4a3e-a20d-5aecb846ef4d",
   "metadata": {},
   "outputs": [
    {
     "name": "stdout",
     "output_type": "stream",
     "text": [
      "[4, 2, 5, 1, 6, 3, 7]\n"
     ]
    }
   ],
   "source": []
  },
  {
   "cell_type": "code",
   "execution_count": null,
   "id": "73183607-b8f7-4bb3-9cbf-0d56b1c888a7",
   "metadata": {},
   "outputs": [],
   "source": []
  }
 ],
 "metadata": {
  "kernelspec": {
   "display_name": "Python 3 (ipykernel)",
   "language": "python",
   "name": "python3"
  },
  "language_info": {
   "codemirror_mode": {
    "name": "ipython",
    "version": 3
   },
   "file_extension": ".py",
   "mimetype": "text/x-python",
   "name": "python",
   "nbconvert_exporter": "python",
   "pygments_lexer": "ipython3",
   "version": "3.12.3"
  }
 },
 "nbformat": 4,
 "nbformat_minor": 5
}
